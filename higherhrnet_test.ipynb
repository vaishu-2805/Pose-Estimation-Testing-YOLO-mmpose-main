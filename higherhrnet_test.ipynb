{
 "cells": [
  {
   "cell_type": "code",
   "execution_count": 4,
   "metadata": {},
   "outputs": [
    {
     "name": "stdout",
     "output_type": "stream",
     "text": [
      "Loads checkpoint by http backend from path: https://download.openmmlab.com/mmpose/v1/body_3d_keypoint/pose_lift/h36m/motionbert_ft_h36m-d80af323_20230531.pth\n",
      "Loads checkpoint by http backend from path: https://download.openmmlab.com/mmpose/v1/projects/rtmposev1/rtmpose-m_simcc-body7_pt-body7_420e-256x192-e48f03d0_20230504.pth\n",
      "Loads checkpoint by http backend from path: https://download.openmmlab.com/mmpose/v1/projects/rtmposev1/rtmdet_m_8xb32-100e_coco-obj365-person-235e8209.pth\n",
      "09/30 20:28:07 - mmengine - \u001b[5m\u001b[4m\u001b[33mWARNING\u001b[0m - Failed to search registry with scope \"mmdet\" in the \"function\" registry tree. As a workaround, the current \"function\" registry in \"mmengine\" is used to build instance. This may cause unexpected failure when running the built modules. Please check whether \"mmdet\" is a correct scope, or whether the registry is initialized.\n"
     ]
    },
    {
     "name": "stderr",
     "output_type": "stream",
     "text": [
      "c:\\Users\\pawel\\miniconda3\\envs\\openmmlab\\lib\\site-packages\\mmdet\\models\\layers\\se_layer.py:158: FutureWarning: `torch.cuda.amp.autocast(args...)` is deprecated. Please use `torch.amp.autocast('cuda', args...)` instead.\n",
      "  with torch.cuda.amp.autocast(enabled=False):\n",
      "c:\\Users\\pawel\\miniconda3\\envs\\openmmlab\\lib\\site-packages\\mmdet\\models\\backbones\\csp_darknet.py:118: FutureWarning: `torch.cuda.amp.autocast(args...)` is deprecated. Please use `torch.amp.autocast('cuda', args...)` instead.\n",
      "  with torch.cuda.amp.autocast(enabled=False):\n"
     ]
    },
    {
     "name": "stdout",
     "output_type": "stream",
     "text": [
      "09/30 20:28:08 - mmengine - \u001b[4m\u001b[97mINFO\u001b[0m - the output image has been saved at ./ResultsHrnet\\humanadnanimal.jpg\n"
     ]
    },
    {
     "name": "stderr",
     "output_type": "stream",
     "text": [
      "c:\\Users\\pawel\\miniconda3\\envs\\openmmlab\\lib\\site-packages\\torch\\functional.py:513: UserWarning: torch.meshgrid: in an upcoming release, it will be required to pass the indexing argument. (Triggered internally at C:\\cb\\pytorch_1000000000000\\work\\aten\\src\\ATen\\native\\TensorShape.cpp:3610.)\n",
      "  return _VF.meshgrid(tensors, **kwargs)  # type: ignore[attr-defined]\n"
     ]
    },
    {
     "name": "stdout",
     "output_type": "stream",
     "text": [
      "Image name: humanadnanimal.jpg\n",
      "Number of humans on the image:1\n",
      "Number of humans detected:1.0\n",
      "Detection time:0.5245725999993738 seconds\n"
     ]
    },
    {
     "name": "stderr",
     "output_type": "stream",
     "text": [
      "c:\\Users\\pawel\\miniconda3\\envs\\openmmlab\\lib\\site-packages\\mmdet\\models\\layers\\se_layer.py:158: FutureWarning: `torch.cuda.amp.autocast(args...)` is deprecated. Please use `torch.amp.autocast('cuda', args...)` instead.\n",
      "  with torch.cuda.amp.autocast(enabled=False):\n",
      "c:\\Users\\pawel\\miniconda3\\envs\\openmmlab\\lib\\site-packages\\mmdet\\models\\backbones\\csp_darknet.py:118: FutureWarning: `torch.cuda.amp.autocast(args...)` is deprecated. Please use `torch.amp.autocast('cuda', args...)` instead.\n",
      "  with torch.cuda.amp.autocast(enabled=False):\n"
     ]
    },
    {
     "name": "stdout",
     "output_type": "stream",
     "text": [
      "09/30 20:28:09 - mmengine - \u001b[4m\u001b[97mINFO\u001b[0m - the output image has been saved at ./ResultsHrnet\\group.jpg\n",
      "Image name: group.jpg\n",
      "Number of humans on the image:21\n",
      "Number of humans detected:21.0\n",
      "Detection time:1.5005701999907615 seconds\n"
     ]
    },
    {
     "name": "stderr",
     "output_type": "stream",
     "text": [
      "c:\\Users\\pawel\\miniconda3\\envs\\openmmlab\\lib\\site-packages\\mmdet\\models\\layers\\se_layer.py:158: FutureWarning: `torch.cuda.amp.autocast(args...)` is deprecated. Please use `torch.amp.autocast('cuda', args...)` instead.\n",
      "  with torch.cuda.amp.autocast(enabled=False):\n",
      "c:\\Users\\pawel\\miniconda3\\envs\\openmmlab\\lib\\site-packages\\mmdet\\models\\backbones\\csp_darknet.py:118: FutureWarning: `torch.cuda.amp.autocast(args...)` is deprecated. Please use `torch.amp.autocast('cuda', args...)` instead.\n",
      "  with torch.cuda.amp.autocast(enabled=False):\n"
     ]
    },
    {
     "name": "stdout",
     "output_type": "stream",
     "text": [
      "09/30 20:28:10 - mmengine - \u001b[4m\u001b[97mINFO\u001b[0m - the output image has been saved at ./ResultsHrnet\\one.jpg\n",
      "Image name: one.jpg\n",
      "Number of humans on the image:1\n",
      "Number of humans detected:1.0\n",
      "Detection time:0.4661513999890303 seconds\n"
     ]
    },
    {
     "name": "stderr",
     "output_type": "stream",
     "text": [
      "c:\\Users\\pawel\\miniconda3\\envs\\openmmlab\\lib\\site-packages\\mmdet\\models\\layers\\se_layer.py:158: FutureWarning: `torch.cuda.amp.autocast(args...)` is deprecated. Please use `torch.amp.autocast('cuda', args...)` instead.\n",
      "  with torch.cuda.amp.autocast(enabled=False):\n",
      "c:\\Users\\pawel\\miniconda3\\envs\\openmmlab\\lib\\site-packages\\mmdet\\models\\backbones\\csp_darknet.py:118: FutureWarning: `torch.cuda.amp.autocast(args...)` is deprecated. Please use `torch.amp.autocast('cuda', args...)` instead.\n",
      "  with torch.cuda.amp.autocast(enabled=False):\n"
     ]
    },
    {
     "name": "stdout",
     "output_type": "stream",
     "text": [
      "09/30 20:28:10 - mmengine - \u001b[4m\u001b[97mINFO\u001b[0m - the output image has been saved at ./ResultsHrnet\\manwithoutlimbs.jpg\n",
      "Image name: manwithoutlimbs.jpg\n",
      "Number of humans on the image:1\n",
      "Number of humans detected:1.0\n",
      "Detection time:0.5149374000029638 seconds\n"
     ]
    },
    {
     "name": "stderr",
     "output_type": "stream",
     "text": [
      "c:\\Users\\pawel\\miniconda3\\envs\\openmmlab\\lib\\site-packages\\mmdet\\models\\layers\\se_layer.py:158: FutureWarning: `torch.cuda.amp.autocast(args...)` is deprecated. Please use `torch.amp.autocast('cuda', args...)` instead.\n",
      "  with torch.cuda.amp.autocast(enabled=False):\n",
      "c:\\Users\\pawel\\miniconda3\\envs\\openmmlab\\lib\\site-packages\\mmdet\\models\\backbones\\csp_darknet.py:118: FutureWarning: `torch.cuda.amp.autocast(args...)` is deprecated. Please use `torch.amp.autocast('cuda', args...)` instead.\n",
      "  with torch.cuda.amp.autocast(enabled=False):\n"
     ]
    },
    {
     "name": "stdout",
     "output_type": "stream",
     "text": [
      "09/30 20:28:11 - mmengine - \u001b[4m\u001b[97mINFO\u001b[0m - the output image has been saved at ./ResultsHrnet\\group2.jpg\n",
      "Image name: group2.jpg\n",
      "Number of humans on the image:8\n",
      "Number of humans detected:5.0\n",
      "Detection time:0.6621465000062017 seconds\n"
     ]
    },
    {
     "name": "stderr",
     "output_type": "stream",
     "text": [
      "c:\\Users\\pawel\\miniconda3\\envs\\openmmlab\\lib\\site-packages\\mmdet\\models\\layers\\se_layer.py:158: FutureWarning: `torch.cuda.amp.autocast(args...)` is deprecated. Please use `torch.amp.autocast('cuda', args...)` instead.\n",
      "  with torch.cuda.amp.autocast(enabled=False):\n",
      "c:\\Users\\pawel\\miniconda3\\envs\\openmmlab\\lib\\site-packages\\mmdet\\models\\backbones\\csp_darknet.py:118: FutureWarning: `torch.cuda.amp.autocast(args...)` is deprecated. Please use `torch.amp.autocast('cuda', args...)` instead.\n",
      "  with torch.cuda.amp.autocast(enabled=False):\n"
     ]
    },
    {
     "name": "stdout",
     "output_type": "stream",
     "text": [
      "09/30 20:28:12 - mmengine - \u001b[4m\u001b[97mINFO\u001b[0m - the output image has been saved at ./ResultsHrnet\\group3.jpg\n",
      "Image name: group3.jpg\n",
      "Number of humans on the image:12\n",
      "Number of humans detected:10.0\n",
      "Detection time:0.9287558000069112 seconds\n"
     ]
    },
    {
     "name": "stderr",
     "output_type": "stream",
     "text": [
      "c:\\Users\\pawel\\miniconda3\\envs\\openmmlab\\lib\\site-packages\\mmdet\\models\\layers\\se_layer.py:158: FutureWarning: `torch.cuda.amp.autocast(args...)` is deprecated. Please use `torch.amp.autocast('cuda', args...)` instead.\n",
      "  with torch.cuda.amp.autocast(enabled=False):\n",
      "c:\\Users\\pawel\\miniconda3\\envs\\openmmlab\\lib\\site-packages\\mmdet\\models\\backbones\\csp_darknet.py:118: FutureWarning: `torch.cuda.amp.autocast(args...)` is deprecated. Please use `torch.amp.autocast('cuda', args...)` instead.\n",
      "  with torch.cuda.amp.autocast(enabled=False):\n"
     ]
    },
    {
     "name": "stdout",
     "output_type": "stream",
     "text": [
      "09/30 20:28:13 - mmengine - \u001b[4m\u001b[97mINFO\u001b[0m - the output image has been saved at ./ResultsHrnet\\group4.jpg\n",
      "Image name: group4.jpg\n",
      "Number of humans on the image:12\n",
      "Number of humans detected:12.0\n",
      "Detection time:1.0141298999951687 seconds\n"
     ]
    },
    {
     "name": "stderr",
     "output_type": "stream",
     "text": [
      "c:\\Users\\pawel\\miniconda3\\envs\\openmmlab\\lib\\site-packages\\mmdet\\models\\layers\\se_layer.py:158: FutureWarning: `torch.cuda.amp.autocast(args...)` is deprecated. Please use `torch.amp.autocast('cuda', args...)` instead.\n",
      "  with torch.cuda.amp.autocast(enabled=False):\n",
      "c:\\Users\\pawel\\miniconda3\\envs\\openmmlab\\lib\\site-packages\\mmdet\\models\\backbones\\csp_darknet.py:118: FutureWarning: `torch.cuda.amp.autocast(args...)` is deprecated. Please use `torch.amp.autocast('cuda', args...)` instead.\n",
      "  with torch.cuda.amp.autocast(enabled=False):\n"
     ]
    },
    {
     "name": "stdout",
     "output_type": "stream",
     "text": [
      "09/30 20:28:15 - mmengine - \u001b[4m\u001b[97mINFO\u001b[0m - the output image has been saved at ./ResultsHrnet\\group5.jpg\n",
      "Image name: group5.jpg\n",
      "Number of humans on the image:14\n",
      "Number of humans detected:14.0\n",
      "Detection time:2.612486900005024 seconds\n"
     ]
    },
    {
     "name": "stderr",
     "output_type": "stream",
     "text": [
      "c:\\Users\\pawel\\miniconda3\\envs\\openmmlab\\lib\\site-packages\\mmdet\\models\\layers\\se_layer.py:158: FutureWarning: `torch.cuda.amp.autocast(args...)` is deprecated. Please use `torch.amp.autocast('cuda', args...)` instead.\n",
      "  with torch.cuda.amp.autocast(enabled=False):\n",
      "c:\\Users\\pawel\\miniconda3\\envs\\openmmlab\\lib\\site-packages\\mmdet\\models\\backbones\\csp_darknet.py:118: FutureWarning: `torch.cuda.amp.autocast(args...)` is deprecated. Please use `torch.amp.autocast('cuda', args...)` instead.\n",
      "  with torch.cuda.amp.autocast(enabled=False):\n"
     ]
    },
    {
     "name": "stdout",
     "output_type": "stream",
     "text": [
      "09/30 20:28:17 - mmengine - \u001b[4m\u001b[97mINFO\u001b[0m - the output image has been saved at ./ResultsHrnet\\group6.jpg\n",
      "Image name: group6.jpg\n",
      "Number of humans on the image:8\n",
      "Number of humans detected:8.0\n",
      "Detection time:1.8373075999988941 seconds\n"
     ]
    },
    {
     "name": "stderr",
     "output_type": "stream",
     "text": [
      "c:\\Users\\pawel\\miniconda3\\envs\\openmmlab\\lib\\site-packages\\mmdet\\models\\layers\\se_layer.py:158: FutureWarning: `torch.cuda.amp.autocast(args...)` is deprecated. Please use `torch.amp.autocast('cuda', args...)` instead.\n",
      "  with torch.cuda.amp.autocast(enabled=False):\n",
      "c:\\Users\\pawel\\miniconda3\\envs\\openmmlab\\lib\\site-packages\\mmdet\\models\\backbones\\csp_darknet.py:118: FutureWarning: `torch.cuda.amp.autocast(args...)` is deprecated. Please use `torch.amp.autocast('cuda', args...)` instead.\n",
      "  with torch.cuda.amp.autocast(enabled=False):\n"
     ]
    },
    {
     "name": "stdout",
     "output_type": "stream",
     "text": [
      "09/30 20:28:20 - mmengine - \u001b[4m\u001b[97mINFO\u001b[0m - the output image has been saved at ./ResultsHrnet\\group7.jpg\n",
      "Image name: group7.jpg\n",
      "Number of humans on the image:6\n",
      "Number of humans detected:6.0\n",
      "Detection time:2.586326000004192 seconds\n"
     ]
    },
    {
     "name": "stderr",
     "output_type": "stream",
     "text": [
      "c:\\Users\\pawel\\miniconda3\\envs\\openmmlab\\lib\\site-packages\\mmdet\\models\\layers\\se_layer.py:158: FutureWarning: `torch.cuda.amp.autocast(args...)` is deprecated. Please use `torch.amp.autocast('cuda', args...)` instead.\n",
      "  with torch.cuda.amp.autocast(enabled=False):\n",
      "c:\\Users\\pawel\\miniconda3\\envs\\openmmlab\\lib\\site-packages\\mmdet\\models\\backbones\\csp_darknet.py:118: FutureWarning: `torch.cuda.amp.autocast(args...)` is deprecated. Please use `torch.amp.autocast('cuda', args...)` instead.\n",
      "  with torch.cuda.amp.autocast(enabled=False):\n"
     ]
    },
    {
     "name": "stdout",
     "output_type": "stream",
     "text": [
      "09/30 20:28:22 - mmengine - \u001b[4m\u001b[97mINFO\u001b[0m - the output image has been saved at ./ResultsHrnet\\group8.jpg\n",
      "Image name: group8.jpg\n",
      "Number of humans on the image:10\n",
      "Number of humans detected:11.0\n",
      "Detection time:2.006717900003423 seconds\n"
     ]
    },
    {
     "name": "stderr",
     "output_type": "stream",
     "text": [
      "c:\\Users\\pawel\\miniconda3\\envs\\openmmlab\\lib\\site-packages\\mmdet\\models\\layers\\se_layer.py:158: FutureWarning: `torch.cuda.amp.autocast(args...)` is deprecated. Please use `torch.amp.autocast('cuda', args...)` instead.\n",
      "  with torch.cuda.amp.autocast(enabled=False):\n",
      "c:\\Users\\pawel\\miniconda3\\envs\\openmmlab\\lib\\site-packages\\mmdet\\models\\backbones\\csp_darknet.py:118: FutureWarning: `torch.cuda.amp.autocast(args...)` is deprecated. Please use `torch.amp.autocast('cuda', args...)` instead.\n",
      "  with torch.cuda.amp.autocast(enabled=False):\n"
     ]
    },
    {
     "name": "stdout",
     "output_type": "stream",
     "text": [
      "09/30 20:28:26 - mmengine - \u001b[4m\u001b[97mINFO\u001b[0m - the output image has been saved at ./ResultsHrnet\\group9.jpg\n",
      "Image name: group9.jpg\n",
      "Number of humans on the image:7\n",
      "Number of humans detected:6.0\n",
      "Detection time:4.230967199997394 seconds\n"
     ]
    },
    {
     "name": "stderr",
     "output_type": "stream",
     "text": [
      "c:\\Users\\pawel\\miniconda3\\envs\\openmmlab\\lib\\site-packages\\mmdet\\models\\layers\\se_layer.py:158: FutureWarning: `torch.cuda.amp.autocast(args...)` is deprecated. Please use `torch.amp.autocast('cuda', args...)` instead.\n",
      "  with torch.cuda.amp.autocast(enabled=False):\n",
      "c:\\Users\\pawel\\miniconda3\\envs\\openmmlab\\lib\\site-packages\\mmdet\\models\\backbones\\csp_darknet.py:118: FutureWarning: `torch.cuda.amp.autocast(args...)` is deprecated. Please use `torch.amp.autocast('cuda', args...)` instead.\n",
      "  with torch.cuda.amp.autocast(enabled=False):\n"
     ]
    },
    {
     "name": "stdout",
     "output_type": "stream",
     "text": [
      "09/30 20:28:28 - mmengine - \u001b[4m\u001b[97mINFO\u001b[0m - the output image has been saved at ./ResultsHrnet\\group10.jpg\n",
      "Image name: group10.jpg\n",
      "Number of humans on the image:5\n",
      "Number of humans detected:4.0\n",
      "Detection time:1.5429186000110349 seconds\n"
     ]
    },
    {
     "name": "stderr",
     "output_type": "stream",
     "text": [
      "c:\\Users\\pawel\\miniconda3\\envs\\openmmlab\\lib\\site-packages\\mmdet\\models\\layers\\se_layer.py:158: FutureWarning: `torch.cuda.amp.autocast(args...)` is deprecated. Please use `torch.amp.autocast('cuda', args...)` instead.\n",
      "  with torch.cuda.amp.autocast(enabled=False):\n",
      "c:\\Users\\pawel\\miniconda3\\envs\\openmmlab\\lib\\site-packages\\mmdet\\models\\backbones\\csp_darknet.py:118: FutureWarning: `torch.cuda.amp.autocast(args...)` is deprecated. Please use `torch.amp.autocast('cuda', args...)` instead.\n",
      "  with torch.cuda.amp.autocast(enabled=False):\n"
     ]
    },
    {
     "name": "stdout",
     "output_type": "stream",
     "text": [
      "09/30 20:28:29 - mmengine - \u001b[4m\u001b[97mINFO\u001b[0m - the output image has been saved at ./ResultsHrnet\\group11.jpg\n",
      "Image name: group11.jpg\n",
      "Number of humans on the image:6\n",
      "Number of humans detected:4.0\n",
      "Detection time:1.135073299999931 seconds\n"
     ]
    },
    {
     "name": "stderr",
     "output_type": "stream",
     "text": [
      "c:\\Users\\pawel\\miniconda3\\envs\\openmmlab\\lib\\site-packages\\mmdet\\models\\layers\\se_layer.py:158: FutureWarning: `torch.cuda.amp.autocast(args...)` is deprecated. Please use `torch.amp.autocast('cuda', args...)` instead.\n",
      "  with torch.cuda.amp.autocast(enabled=False):\n",
      "c:\\Users\\pawel\\miniconda3\\envs\\openmmlab\\lib\\site-packages\\mmdet\\models\\backbones\\csp_darknet.py:118: FutureWarning: `torch.cuda.amp.autocast(args...)` is deprecated. Please use `torch.amp.autocast('cuda', args...)` instead.\n",
      "  with torch.cuda.amp.autocast(enabled=False):\n"
     ]
    },
    {
     "name": "stdout",
     "output_type": "stream",
     "text": [
      "09/30 20:28:32 - mmengine - \u001b[4m\u001b[97mINFO\u001b[0m - the output image has been saved at ./ResultsHrnet\\group12.jpg\n",
      "Image name: group12.jpg\n",
      "Number of humans on the image:13\n",
      "Number of humans detected:12.0\n",
      "Detection time:3.4048566999990726 seconds\n"
     ]
    },
    {
     "name": "stderr",
     "output_type": "stream",
     "text": [
      "c:\\Users\\pawel\\miniconda3\\envs\\openmmlab\\lib\\site-packages\\mmdet\\models\\layers\\se_layer.py:158: FutureWarning: `torch.cuda.amp.autocast(args...)` is deprecated. Please use `torch.amp.autocast('cuda', args...)` instead.\n",
      "  with torch.cuda.amp.autocast(enabled=False):\n",
      "c:\\Users\\pawel\\miniconda3\\envs\\openmmlab\\lib\\site-packages\\mmdet\\models\\backbones\\csp_darknet.py:118: FutureWarning: `torch.cuda.amp.autocast(args...)` is deprecated. Please use `torch.amp.autocast('cuda', args...)` instead.\n",
      "  with torch.cuda.amp.autocast(enabled=False):\n"
     ]
    },
    {
     "name": "stdout",
     "output_type": "stream",
     "text": [
      "09/30 20:28:33 - mmengine - \u001b[4m\u001b[97mINFO\u001b[0m - the output image has been saved at ./ResultsHrnet\\group13.jpg\n",
      "Image name: group13.jpg\n",
      "Number of humans on the image:3\n",
      "Number of humans detected:3.0\n",
      "Detection time:0.6711159999977099 seconds\n"
     ]
    },
    {
     "name": "stderr",
     "output_type": "stream",
     "text": [
      "c:\\Users\\pawel\\miniconda3\\envs\\openmmlab\\lib\\site-packages\\mmdet\\models\\layers\\se_layer.py:158: FutureWarning: `torch.cuda.amp.autocast(args...)` is deprecated. Please use `torch.amp.autocast('cuda', args...)` instead.\n",
      "  with torch.cuda.amp.autocast(enabled=False):\n",
      "c:\\Users\\pawel\\miniconda3\\envs\\openmmlab\\lib\\site-packages\\mmdet\\models\\backbones\\csp_darknet.py:118: FutureWarning: `torch.cuda.amp.autocast(args...)` is deprecated. Please use `torch.amp.autocast('cuda', args...)` instead.\n",
      "  with torch.cuda.amp.autocast(enabled=False):\n"
     ]
    },
    {
     "name": "stdout",
     "output_type": "stream",
     "text": [
      "09/30 20:28:37 - mmengine - \u001b[4m\u001b[97mINFO\u001b[0m - the output image has been saved at ./ResultsHrnet\\group14.jpg\n",
      "Image name: group14.jpg\n",
      "Number of humans on the image:5\n",
      "Number of humans detected:4.0\n",
      "Detection time:4.130947400000878 seconds\n"
     ]
    },
    {
     "name": "stderr",
     "output_type": "stream",
     "text": [
      "c:\\Users\\pawel\\miniconda3\\envs\\openmmlab\\lib\\site-packages\\mmdet\\models\\layers\\se_layer.py:158: FutureWarning: `torch.cuda.amp.autocast(args...)` is deprecated. Please use `torch.amp.autocast('cuda', args...)` instead.\n",
      "  with torch.cuda.amp.autocast(enabled=False):\n",
      "c:\\Users\\pawel\\miniconda3\\envs\\openmmlab\\lib\\site-packages\\mmdet\\models\\backbones\\csp_darknet.py:118: FutureWarning: `torch.cuda.amp.autocast(args...)` is deprecated. Please use `torch.amp.autocast('cuda', args...)` instead.\n",
      "  with torch.cuda.amp.autocast(enabled=False):\n"
     ]
    },
    {
     "name": "stdout",
     "output_type": "stream",
     "text": [
      "09/30 20:28:38 - mmengine - \u001b[4m\u001b[97mINFO\u001b[0m - the output image has been saved at ./ResultsHrnet\\group15.jpg\n",
      "Image name: group15.jpg\n",
      "Number of humans on the image:5\n",
      "Number of humans detected:5.0\n",
      "Detection time:1.588442500011297 seconds\n"
     ]
    },
    {
     "name": "stderr",
     "output_type": "stream",
     "text": [
      "c:\\Users\\pawel\\miniconda3\\envs\\openmmlab\\lib\\site-packages\\mmdet\\models\\layers\\se_layer.py:158: FutureWarning: `torch.cuda.amp.autocast(args...)` is deprecated. Please use `torch.amp.autocast('cuda', args...)` instead.\n",
      "  with torch.cuda.amp.autocast(enabled=False):\n",
      "c:\\Users\\pawel\\miniconda3\\envs\\openmmlab\\lib\\site-packages\\mmdet\\models\\backbones\\csp_darknet.py:118: FutureWarning: `torch.cuda.amp.autocast(args...)` is deprecated. Please use `torch.amp.autocast('cuda', args...)` instead.\n",
      "  with torch.cuda.amp.autocast(enabled=False):\n"
     ]
    },
    {
     "name": "stdout",
     "output_type": "stream",
     "text": [
      "09/30 20:28:47 - mmengine - \u001b[4m\u001b[97mINFO\u001b[0m - the output image has been saved at ./ResultsHrnet\\group16.jpg\n",
      "Image name: group16.jpg\n",
      "Number of humans on the image:10\n",
      "Number of humans detected:10.0\n",
      "Detection time:8.342457600010675 seconds\n"
     ]
    },
    {
     "name": "stderr",
     "output_type": "stream",
     "text": [
      "c:\\Users\\pawel\\miniconda3\\envs\\openmmlab\\lib\\site-packages\\mmdet\\models\\layers\\se_layer.py:158: FutureWarning: `torch.cuda.amp.autocast(args...)` is deprecated. Please use `torch.amp.autocast('cuda', args...)` instead.\n",
      "  with torch.cuda.amp.autocast(enabled=False):\n",
      "c:\\Users\\pawel\\miniconda3\\envs\\openmmlab\\lib\\site-packages\\mmdet\\models\\backbones\\csp_darknet.py:118: FutureWarning: `torch.cuda.amp.autocast(args...)` is deprecated. Please use `torch.amp.autocast('cuda', args...)` instead.\n",
      "  with torch.cuda.amp.autocast(enabled=False):\n"
     ]
    },
    {
     "name": "stdout",
     "output_type": "stream",
     "text": [
      "09/30 20:28:51 - mmengine - \u001b[4m\u001b[97mINFO\u001b[0m - the output image has been saved at ./ResultsHrnet\\group17.jpg\n",
      "Image name: group17.jpg\n",
      "Number of humans on the image:4\n",
      "Number of humans detected:4.0\n",
      "Detection time:4.01857060000475 seconds\n"
     ]
    },
    {
     "data": {
      "image/png": "[encoded data removed]",
      "text/plain": [
       "<Figure size 640x480 with 1 Axes>"
      ]
     },
     "metadata": {},
     "output_type": "display_data"
    },
    {
     "data": {
      "image/png": "[encoded data removed]",
      "text/plain": [
       "<Figure size 640x480 with 1 Axes>"
      ]
     },
     "metadata": {},
     "output_type": "display_data"
    },
    {
     "data": {
      "image/png": "[encoded data removed]",
      "text/plain": [
       "<Figure size 640x480 with 1 Axes>"
      ]
     },
     "metadata": {},
     "output_type": "display_data"
    },
    {
     "data": {
      "image/png": "[encoded data removed]",
      "text/plain": [
       "<Figure size 640x480 with 1 Axes>"
      ]
     },
     "metadata": {},
     "output_type": "display_data"
    },
    {
     "name": "stdout",
     "output_type": "stream",
     "text": [
      "09/30 20:28:51 - mmengine - \u001b[5m\u001b[4m\u001b[33mWARNING\u001b[0m - The current default scope \"mmdet\" is not \"mmpose\", `init_default_scope` will force set the currentdefault scope to \"mmpose\".\n"
     ]
    },
    {
     "ename": "ValueError",
     "evalue": "Cannot find model: wholebody/higherhrnet_w32_coco_wholebody_512x512 in mmpose",
     "output_type": "error",
     "traceback": [
      "\u001b[1;31m---------------------------------------------------------------------------\u001b[0m",
      "\u001b[1;31mValueError\u001b[0m                                Traceback (most recent call last)",
      "Cell \u001b[1;32mIn[4], line 313\u001b[0m\n\u001b[0;32m    310\u001b[0m plt\u001b[38;5;241m.\u001b[39mxscale(\u001b[38;5;124m'\u001b[39m\u001b[38;5;124mlog\u001b[39m\u001b[38;5;124m'\u001b[39m)\n\u001b[0;32m    311\u001b[0m plt\u001b[38;5;241m.\u001b[39mshow()\n\u001b[1;32m--> 313\u001b[0m inferencer \u001b[38;5;241m=\u001b[39m \u001b[43mMMPoseInferencer\u001b[49m\u001b[43m(\u001b[49m\u001b[38;5;124;43m'\u001b[39;49m\u001b[38;5;124;43mwholebody/higherhrnet_w32_coco_wholebody_512x512\u001b[39;49m\u001b[38;5;124;43m'\u001b[39;49m\u001b[43m)\u001b[49m\n",
      "File \u001b[1;32mc:\\Users\\pawel\\miniconda3\\envs\\openmmlab\\lib\\site-packages\\mmpose\\apis\\inferencers\\mmpose_inferencer.py:100\u001b[0m, in \u001b[0;36mMMPoseInferencer.__init__\u001b[1;34m(self, pose2d, pose2d_weights, pose3d, pose3d_weights, device, scope, det_model, det_weights, det_cat_ids, show_progress)\u001b[0m\n\u001b[0;32m     94\u001b[0m         \u001b[38;5;28mself\u001b[39m\u001b[38;5;241m.\u001b[39minferencer \u001b[38;5;241m=\u001b[39m Pose3DInferencer(pose3d, pose3d_weights,\n\u001b[0;32m     95\u001b[0m                                            pose2d, pose2d_weights,\n\u001b[0;32m     96\u001b[0m                                            device, scope, det_model,\n\u001b[0;32m     97\u001b[0m                                            det_weights, det_cat_ids,\n\u001b[0;32m     98\u001b[0m                                            show_progress)\n\u001b[0;32m     99\u001b[0m \u001b[38;5;28;01melif\u001b[39;00m pose2d \u001b[38;5;129;01mis\u001b[39;00m \u001b[38;5;129;01mnot\u001b[39;00m \u001b[38;5;28;01mNone\u001b[39;00m:\n\u001b[1;32m--> 100\u001b[0m     \u001b[38;5;28mself\u001b[39m\u001b[38;5;241m.\u001b[39minferencer \u001b[38;5;241m=\u001b[39m \u001b[43mPose2DInferencer\u001b[49m\u001b[43m(\u001b[49m\u001b[43mpose2d\u001b[49m\u001b[43m,\u001b[49m\u001b[43m \u001b[49m\u001b[43mpose2d_weights\u001b[49m\u001b[43m,\u001b[49m\u001b[43m \u001b[49m\u001b[43mdevice\u001b[49m\u001b[43m,\u001b[49m\n\u001b[0;32m    101\u001b[0m \u001b[43m                                       \u001b[49m\u001b[43mscope\u001b[49m\u001b[43m,\u001b[49m\u001b[43m \u001b[49m\u001b[43mdet_model\u001b[49m\u001b[43m,\u001b[49m\u001b[43m \u001b[49m\u001b[43mdet_weights\u001b[49m\u001b[43m,\u001b[49m\n\u001b[0;32m    102\u001b[0m \u001b[43m                                       \u001b[49m\u001b[43mdet_cat_ids\u001b[49m\u001b[43m,\u001b[49m\u001b[43m \u001b[49m\u001b[43mshow_progress\u001b[49m\u001b[43m)\u001b[49m\n\u001b[0;32m    103\u001b[0m \u001b[38;5;28;01melse\u001b[39;00m:\n\u001b[0;32m    104\u001b[0m     \u001b[38;5;28;01mraise\u001b[39;00m \u001b[38;5;167;01mValueError\u001b[39;00m(\u001b[38;5;124m'\u001b[39m\u001b[38;5;124mEither 2d or 3d pose estimation algorithm \u001b[39m\u001b[38;5;124m'\u001b[39m\n\u001b[0;32m    105\u001b[0m                      \u001b[38;5;124m'\u001b[39m\u001b[38;5;124mshould be provided.\u001b[39m\u001b[38;5;124m'\u001b[39m)\n",
      "File \u001b[1;32mc:\\Users\\pawel\\miniconda3\\envs\\openmmlab\\lib\\site-packages\\mmpose\\apis\\inferencers\\pose2d_inferencer.py:86\u001b[0m, in \u001b[0;36mPose2DInferencer.__init__\u001b[1;34m(self, model, weights, device, scope, det_model, det_weights, det_cat_ids, show_progress)\u001b[0m\n\u001b[0;32m     75\u001b[0m \u001b[38;5;28;01mdef\u001b[39;00m \u001b[38;5;21m__init__\u001b[39m(\u001b[38;5;28mself\u001b[39m,\n\u001b[0;32m     76\u001b[0m              model: Union[ModelType, \u001b[38;5;28mstr\u001b[39m],\n\u001b[0;32m     77\u001b[0m              weights: Optional[\u001b[38;5;28mstr\u001b[39m] \u001b[38;5;241m=\u001b[39m \u001b[38;5;28;01mNone\u001b[39;00m,\n\u001b[1;32m   (...)\u001b[0m\n\u001b[0;32m     82\u001b[0m              det_cat_ids: Optional[Union[\u001b[38;5;28mint\u001b[39m, Tuple]] \u001b[38;5;241m=\u001b[39m \u001b[38;5;28;01mNone\u001b[39;00m,\n\u001b[0;32m     83\u001b[0m              show_progress: \u001b[38;5;28mbool\u001b[39m \u001b[38;5;241m=\u001b[39m \u001b[38;5;28;01mFalse\u001b[39;00m) \u001b[38;5;241m-\u001b[39m\u001b[38;5;241m>\u001b[39m \u001b[38;5;28;01mNone\u001b[39;00m:\n\u001b[0;32m     85\u001b[0m     init_default_scope(scope)\n\u001b[1;32m---> 86\u001b[0m     \u001b[38;5;28;43msuper\u001b[39;49m\u001b[43m(\u001b[49m\u001b[43m)\u001b[49m\u001b[38;5;241;43m.\u001b[39;49m\u001b[38;5;21;43m__init__\u001b[39;49m\u001b[43m(\u001b[49m\n\u001b[0;32m     87\u001b[0m \u001b[43m        \u001b[49m\u001b[43mmodel\u001b[49m\u001b[38;5;241;43m=\u001b[39;49m\u001b[43mmodel\u001b[49m\u001b[43m,\u001b[49m\n\u001b[0;32m     88\u001b[0m \u001b[43m        \u001b[49m\u001b[43mweights\u001b[49m\u001b[38;5;241;43m=\u001b[39;49m\u001b[43mweights\u001b[49m\u001b[43m,\u001b[49m\n\u001b[0;32m     89\u001b[0m \u001b[43m        \u001b[49m\u001b[43mdevice\u001b[49m\u001b[38;5;241;43m=\u001b[39;49m\u001b[43mdevice\u001b[49m\u001b[43m,\u001b[49m\n\u001b[0;32m     90\u001b[0m \u001b[43m        \u001b[49m\u001b[43mscope\u001b[49m\u001b[38;5;241;43m=\u001b[39;49m\u001b[43mscope\u001b[49m\u001b[43m,\u001b[49m\n\u001b[0;32m     91\u001b[0m \u001b[43m        \u001b[49m\u001b[43mshow_progress\u001b[49m\u001b[38;5;241;43m=\u001b[39;49m\u001b[43mshow_progress\u001b[49m\u001b[43m)\u001b[49m\n\u001b[0;32m     92\u001b[0m     \u001b[38;5;28mself\u001b[39m\u001b[38;5;241m.\u001b[39mmodel \u001b[38;5;241m=\u001b[39m revert_sync_batchnorm(\u001b[38;5;28mself\u001b[39m\u001b[38;5;241m.\u001b[39mmodel)\n\u001b[0;32m     94\u001b[0m     \u001b[38;5;66;03m# assign dataset metainfo to self.visualizer\u001b[39;00m\n",
      "File \u001b[1;32mc:\\Users\\pawel\\miniconda3\\envs\\openmmlab\\lib\\site-packages\\mmpose\\apis\\inferencers\\base_mmpose_inferencer.py:64\u001b[0m, in \u001b[0;36mBaseMMPoseInferencer.__init__\u001b[1;34m(self, model, weights, device, scope, show_progress)\u001b[0m\n\u001b[0;32m     58\u001b[0m \u001b[38;5;28;01mdef\u001b[39;00m \u001b[38;5;21m__init__\u001b[39m(\u001b[38;5;28mself\u001b[39m,\n\u001b[0;32m     59\u001b[0m              model: Union[ModelType, \u001b[38;5;28mstr\u001b[39m, \u001b[38;5;28;01mNone\u001b[39;00m] \u001b[38;5;241m=\u001b[39m \u001b[38;5;28;01mNone\u001b[39;00m,\n\u001b[0;32m     60\u001b[0m              weights: Optional[\u001b[38;5;28mstr\u001b[39m] \u001b[38;5;241m=\u001b[39m \u001b[38;5;28;01mNone\u001b[39;00m,\n\u001b[0;32m     61\u001b[0m              device: Optional[\u001b[38;5;28mstr\u001b[39m] \u001b[38;5;241m=\u001b[39m \u001b[38;5;28;01mNone\u001b[39;00m,\n\u001b[0;32m     62\u001b[0m              scope: Optional[\u001b[38;5;28mstr\u001b[39m] \u001b[38;5;241m=\u001b[39m \u001b[38;5;28;01mNone\u001b[39;00m,\n\u001b[0;32m     63\u001b[0m              show_progress: \u001b[38;5;28mbool\u001b[39m \u001b[38;5;241m=\u001b[39m \u001b[38;5;28;01mFalse\u001b[39;00m) \u001b[38;5;241m-\u001b[39m\u001b[38;5;241m>\u001b[39m \u001b[38;5;28;01mNone\u001b[39;00m:\n\u001b[1;32m---> 64\u001b[0m     \u001b[38;5;28;43msuper\u001b[39;49m\u001b[43m(\u001b[49m\u001b[43m)\u001b[49m\u001b[38;5;241;43m.\u001b[39;49m\u001b[38;5;21;43m__init__\u001b[39;49m\u001b[43m(\u001b[49m\n\u001b[0;32m     65\u001b[0m \u001b[43m        \u001b[49m\u001b[43mmodel\u001b[49m\u001b[43m,\u001b[49m\u001b[43m \u001b[49m\u001b[43mweights\u001b[49m\u001b[43m,\u001b[49m\u001b[43m \u001b[49m\u001b[43mdevice\u001b[49m\u001b[43m,\u001b[49m\u001b[43m \u001b[49m\u001b[43mscope\u001b[49m\u001b[43m,\u001b[49m\u001b[43m \u001b[49m\u001b[43mshow_progress\u001b[49m\u001b[38;5;241;43m=\u001b[39;49m\u001b[43mshow_progress\u001b[49m\u001b[43m)\u001b[49m\n",
      "File \u001b[1;32mc:\\Users\\pawel\\miniconda3\\envs\\openmmlab\\lib\\site-packages\\mmengine\\infer\\infer.py:160\u001b[0m, in \u001b[0;36mBaseInferencer.__init__\u001b[1;34m(self, model, weights, device, scope, show_progress)\u001b[0m\n\u001b[0;32m    156\u001b[0m     cfg \u001b[38;5;241m=\u001b[39m Config\u001b[38;5;241m.\u001b[39mfromfile(model)\n\u001b[0;32m    157\u001b[0m \u001b[38;5;28;01melse\u001b[39;00m:\n\u001b[0;32m    158\u001b[0m     \u001b[38;5;66;03m# Load config and weights from metafile. If `weights` is\u001b[39;00m\n\u001b[0;32m    159\u001b[0m     \u001b[38;5;66;03m# assigned, the weights defined in metafile will be ignored.\u001b[39;00m\n\u001b[1;32m--> 160\u001b[0m     cfg, _weights \u001b[38;5;241m=\u001b[39m \u001b[38;5;28;43mself\u001b[39;49m\u001b[38;5;241;43m.\u001b[39;49m\u001b[43m_load_model_from_metafile\u001b[49m\u001b[43m(\u001b[49m\u001b[43mmodel\u001b[49m\u001b[43m)\u001b[49m\n\u001b[0;32m    161\u001b[0m     \u001b[38;5;28;01mif\u001b[39;00m weights \u001b[38;5;129;01mis\u001b[39;00m \u001b[38;5;28;01mNone\u001b[39;00m:\n\u001b[0;32m    162\u001b[0m         weights \u001b[38;5;241m=\u001b[39m _weights\n",
      "File \u001b[1;32mc:\\Users\\pawel\\miniconda3\\envs\\openmmlab\\lib\\site-packages\\mmengine\\infer\\infer.py:393\u001b[0m, in \u001b[0;36mBaseInferencer._load_model_from_metafile\u001b[1;34m(self, model)\u001b[0m\n\u001b[0;32m    391\u001b[0m         weights \u001b[38;5;241m=\u001b[39m weights[\u001b[38;5;241m0\u001b[39m] \u001b[38;5;28;01mif\u001b[39;00m \u001b[38;5;28misinstance\u001b[39m(weights, \u001b[38;5;28mlist\u001b[39m) \u001b[38;5;28;01melse\u001b[39;00m weights\n\u001b[0;32m    392\u001b[0m         \u001b[38;5;28;01mreturn\u001b[39;00m cfg, weights\n\u001b[1;32m--> 393\u001b[0m \u001b[38;5;28;01mraise\u001b[39;00m \u001b[38;5;167;01mValueError\u001b[39;00m(\u001b[38;5;124mf\u001b[39m\u001b[38;5;124m'\u001b[39m\u001b[38;5;124mCannot find model: \u001b[39m\u001b[38;5;132;01m{\u001b[39;00mmodel\u001b[38;5;132;01m}\u001b[39;00m\u001b[38;5;124m in \u001b[39m\u001b[38;5;132;01m{\u001b[39;00m\u001b[38;5;28mself\u001b[39m\u001b[38;5;241m.\u001b[39mscope\u001b[38;5;132;01m}\u001b[39;00m\u001b[38;5;124m'\u001b[39m)\n",
      "\u001b[1;31mValueError\u001b[0m: Cannot find model: wholebody/higherhrnet_w32_coco_wholebody_512x512 in mmpose"
     ]
    }
   ],
   "source": [
    "import time\n",
    "import mmpose\n",
    "from mmpose.apis import MMPoseInferencer\n",
    "from pathlib import Path\n",
    "import matplotlib\n",
    "import matplotlib.pyplot as plt\n",
    "from PIL import Image\n",
    "\n",
    "time_res = []\n",
    "\n",
    "\n",
    "def get_image_size(img_path):\n",
    "    with Image.open(img_path) as img:\n",
    "        width, height = img.size\n",
    "    return width, height\n",
    "\n",
    "\n",
    "  \n",
    "def test_mmposeinter_human(img_path,num_of_h,inferencer,iterations=1):\n",
    "# instantiate the inferencer using the model alias\n",
    "\n",
    "  times = []\n",
    "  num_detected_list = []   \n",
    "\n",
    "# The MMPoseInferencer API employs a lazy inference approach,\n",
    "# creating a prediction generator when given input\n",
    "  for _ in range(iterations):\n",
    "      start = time.perf_counter()\n",
    "      result_generator = inferencer(img_path, show=False,vis_out_dir='./ResultsHrnet')  # turn off showing the result for speed\n",
    "      result = next(result_generator)\n",
    "      stop = time.perf_counter()\n",
    "      \n",
    "      \n",
    "      detection_time = stop - start\n",
    "      times.append(detection_time)\n",
    "      num_detected = len(result['predictions'][0])\n",
    "      num_detected_list.append(num_detected)\n",
    "  \n",
    "  avg_time = sum(times) / iterations\n",
    "  avg_detected = sum(num_detected_list) / iterations\n",
    "  print(f\"Image name: {Path(img_path).name}\")\n",
    "  print(f\"Number of humans on the image:{num_of_h}\")\n",
    "  print(f\"Number of humans detected:{avg_detected}\")\n",
    "  print(f\"Detection time:{avg_time} seconds\")\n",
    "  # nb = len(result['predictions'][0])\n",
    "  return avg_time, avg_detected\n",
    "\n",
    "size = []  \n",
    "lst_err = []\n",
    "nb_h_l = []\n",
    "l_of_p = []\n",
    "# inferencer = MMPoseInferencer('human')\n",
    "inferencer = MMPoseInferencer(pose3d=\"human3d\")\n",
    "\n",
    "img_path = './InputsJPGs/humanadnanimal.jpg'\n",
    "nb_of_p = 1\n",
    "l_of_p.append(nb_of_p)\n",
    "t, nb_det = test_mmposeinter_human(img_path,nb_of_p,inferencer)\n",
    "time_res.append(t)\n",
    "nb_h_l.append(nb_det)\n",
    "width, height = get_image_size(img_path)\n",
    "size.append(width * height)\n",
    "err = abs(nb_of_p - nb_det)/nb_of_p\n",
    "lst_err.append(1 - err)\n",
    "\n",
    "img_path = './InputsJPGs/group.jpg'\n",
    "nb_of_p = 21\n",
    "l_of_p.append(nb_of_p)\n",
    "t, nb_det = test_mmposeinter_human(img_path,nb_of_p,inferencer)\n",
    "time_res.append(t)\n",
    "nb_h_l.append(nb_det)\n",
    "width, height = get_image_size(img_path)\n",
    "size.append(width * height)\n",
    "err = abs(nb_of_p - nb_det)/nb_of_p\n",
    "lst_err.append(1 - err)\n",
    "\n",
    "img_path = './InputsJPGs/one.jpg'\n",
    "nb_of_p = 1\n",
    "l_of_p.append(nb_of_p)\n",
    "t, nb_det = test_mmposeinter_human(img_path,nb_of_p,inferencer)\n",
    "time_res.append(t)\n",
    "nb_h_l.append(nb_det)\n",
    "width, height = get_image_size(img_path)\n",
    "size.append(width * height)\n",
    "err = abs(nb_of_p - nb_det)/nb_of_p\n",
    "lst_err.append(1 - err)\n",
    "\n",
    "img_path = './InputsJPGs/manwithoutlimbs.jpg'\n",
    "nb_of_p = 1\n",
    "l_of_p.append(nb_of_p)\n",
    "t, nb_det = test_mmposeinter_human(img_path,nb_of_p,inferencer)\n",
    "time_res.append(t)\n",
    "nb_h_l.append(nb_det)\n",
    "width, height = get_image_size(img_path)\n",
    "size.append(width * height)\n",
    "err = abs(nb_of_p - nb_det)/nb_of_p\n",
    "lst_err.append(1 - err)\n",
    "\n",
    "img_path = './InputsJPGs/group2.jpg' \n",
    "nb_of_p = 8\n",
    "l_of_p.append(nb_of_p)\n",
    "t, nb_det = test_mmposeinter_human(img_path,nb_of_p,inferencer)\n",
    "time_res.append(t)\n",
    "nb_h_l.append(nb_det)\n",
    "width, height = get_image_size(img_path)\n",
    "size.append(width * height)\n",
    "err = abs(nb_of_p - nb_det)/nb_of_p\n",
    "lst_err.append(1 - err)\n",
    "\n",
    "# img_path = './InputsJPGs/animallikehuman.jpg'\n",
    "# t, nb_det = test_mmposeinter_human(img_path,0,inferencer)\n",
    "# time_res.append(t)\n",
    "# nb_h_l.append(nb_det)\n",
    "\n",
    "\n",
    "img_path = './InputsJPGs/group3.jpg'\n",
    "nb_of_p = 12\n",
    "l_of_p.append(nb_of_p)\n",
    "t, nb_det = test_mmposeinter_human(img_path,nb_of_p,inferencer)\n",
    "time_res.append(t)\n",
    "nb_h_l.append(nb_det)\n",
    "width, height = get_image_size(img_path)\n",
    "size.append(width * height)\n",
    "err = abs(nb_of_p - nb_det)/nb_of_p\n",
    "lst_err.append(1 - err)\n",
    "\n",
    "\n",
    "img_path = './InputsJPGs/group4.jpg'\n",
    "nb_of_p = 12\n",
    "l_of_p.append(nb_of_p)\n",
    "t, nb_det = test_mmposeinter_human(img_path,nb_of_p,inferencer)\n",
    "time_res.append(t)\n",
    "nb_h_l.append(nb_det)\n",
    "width, height = get_image_size(img_path)\n",
    "size.append(width * height)\n",
    "err = abs(nb_of_p - nb_det)/nb_of_p\n",
    "lst_err.append(1 - err)\n",
    "\n",
    "img_path = './InputsJPGs/group5.jpg'\n",
    "nb_of_p = 14\n",
    "l_of_p.append(nb_of_p)\n",
    "t, nb_det = test_mmposeinter_human(img_path,nb_of_p,inferencer)\n",
    "time_res.append(t)\n",
    "nb_h_l.append(nb_det)\n",
    "width, height = get_image_size(img_path)\n",
    "size.append(width * height)\n",
    "err = abs(nb_of_p - nb_det)/nb_of_p\n",
    "lst_err.append(1 - err)\n",
    "\n",
    "img_path = './InputsJPGs/group6.jpg'\n",
    "nb_of_p = 8\n",
    "l_of_p.append(nb_of_p)\n",
    "t, nb_det = test_mmposeinter_human(img_path,nb_of_p,inferencer)\n",
    "time_res.append(t)\n",
    "nb_h_l.append(nb_det)\n",
    "width, height = get_image_size(img_path)\n",
    "size.append(width * height)\n",
    "err = abs(nb_of_p - nb_det)/nb_of_p\n",
    "lst_err.append(1 - err)\n",
    "\n",
    "img_path = './InputsJPGs/group7.jpg'\n",
    "nb_of_p = 6\n",
    "l_of_p.append(nb_of_p)\n",
    "t, nb_det = test_mmposeinter_human(img_path,nb_of_p,inferencer)\n",
    "time_res.append(t)\n",
    "nb_h_l.append(nb_det)\n",
    "width, height = get_image_size(img_path)\n",
    "size.append(width * height)\n",
    "err = abs(nb_of_p - nb_det)/nb_of_p\n",
    "lst_err.append(1 - err)\n",
    "\n",
    "img_path = './InputsJPGs/group8.jpg'\n",
    "nb_of_p = 10\n",
    "l_of_p.append(nb_of_p)\n",
    "t, nb_det = test_mmposeinter_human(img_path,nb_of_p,inferencer)\n",
    "time_res.append(t)\n",
    "nb_h_l.append(nb_det)\n",
    "width, height = get_image_size(img_path)\n",
    "size.append(width * height)\n",
    "err = abs(nb_of_p - nb_det)/nb_of_p\n",
    "lst_err.append(1 - err)\n",
    "\n",
    "img_path = './InputsJPGs/group9.jpg'\n",
    "nb_of_p = 7\n",
    "l_of_p.append(nb_of_p)\n",
    "t, nb_det = test_mmposeinter_human(img_path,nb_of_p,inferencer)\n",
    "time_res.append(t)\n",
    "nb_h_l.append(nb_det)\n",
    "width, height = get_image_size(img_path)\n",
    "size.append(width * height)\n",
    "err = abs(nb_of_p - nb_det)/nb_of_p\n",
    "lst_err.append(1 - err)\n",
    "\n",
    "img_path = './InputsJPGs/group10.jpg'\n",
    "nb_of_p = 5\n",
    "l_of_p.append(nb_of_p)\n",
    "t, nb_det = test_mmposeinter_human(img_path,nb_of_p,inferencer)\n",
    "time_res.append(t)\n",
    "nb_h_l.append(nb_det)\n",
    "width, height = get_image_size(img_path)\n",
    "size.append(width * height)\n",
    "err = abs(nb_of_p - nb_det)/nb_of_p\n",
    "lst_err.append(1 - err)\n",
    "\n",
    "img_path = './InputsJPGs/group11.jpg'\n",
    "nb_of_p = 6\n",
    "l_of_p.append(nb_of_p)\n",
    "t, nb_det = test_mmposeinter_human(img_path,nb_of_p,inferencer)\n",
    "time_res.append(t)\n",
    "nb_h_l.append(nb_det)\n",
    "width, height = get_image_size(img_path)\n",
    "size.append(width * height)\n",
    "err = abs(nb_of_p - nb_det)/nb_of_p\n",
    "lst_err.append(1 - err)\n",
    "\n",
    "img_path = './InputsJPGs/group12.jpg'\n",
    "nb_of_p = 13\n",
    "l_of_p.append(nb_of_p)\n",
    "t, nb_det = test_mmposeinter_human(img_path,nb_of_p,inferencer)\n",
    "time_res.append(t)\n",
    "nb_h_l.append(nb_det)\n",
    "width, height = get_image_size(img_path)\n",
    "size.append(width * height)\n",
    "err = abs(nb_of_p - nb_det)/nb_of_p\n",
    "lst_err.append(1 - err)\n",
    "\n",
    "img_path = './InputsJPGs/group13.jpg'\n",
    "nb_of_p = 3\n",
    "l_of_p.append(nb_of_p)\n",
    "t, nb_det = test_mmposeinter_human(img_path,nb_of_p,inferencer)\n",
    "time_res.append(t)\n",
    "nb_h_l.append(nb_det)\n",
    "width, height = get_image_size(img_path)\n",
    "size.append(width * height)\n",
    "err = abs(nb_of_p - nb_det)/nb_of_p\n",
    "lst_err.append(1 - err)\n",
    "\n",
    "img_path = './InputsJPGs/group14.jpg'\n",
    "nb_of_p = 5\n",
    "l_of_p.append(nb_of_p)\n",
    "t, nb_det = test_mmposeinter_human(img_path,nb_of_p,inferencer)\n",
    "time_res.append(t)\n",
    "nb_h_l.append(nb_det)\n",
    "width, height = get_image_size(img_path)\n",
    "size.append(width * height)\n",
    "err = abs(nb_of_p - nb_det)/nb_of_p\n",
    "lst_err.append(1 - err)\n",
    "\n",
    "img_path = './InputsJPGs/group15.jpg'\n",
    "nb_of_p = 5\n",
    "l_of_p.append(nb_of_p)\n",
    "t, nb_det = test_mmposeinter_human(img_path,nb_of_p,inferencer)\n",
    "time_res.append(t)\n",
    "nb_h_l.append(nb_det)\n",
    "width, height = get_image_size(img_path)\n",
    "size.append(width * height)\n",
    "err = abs(nb_of_p - nb_det)/nb_of_p\n",
    "lst_err.append(1 - err)\n",
    "\n",
    "img_path = './InputsJPGs/group16.jpg'\n",
    "nb_of_p = 10\n",
    "l_of_p.append(nb_of_p)\n",
    "t, nb_det = test_mmposeinter_human(img_path,nb_of_p,inferencer)\n",
    "time_res.append(t)\n",
    "nb_h_l.append(nb_det)\n",
    "width, height = get_image_size(img_path)\n",
    "size.append(width * height)\n",
    "err = abs(nb_of_p - nb_det)/nb_of_p\n",
    "lst_err.append(1 - err)\n",
    "\n",
    "img_path = './InputsJPGs/group17.jpg'\n",
    "nb_of_p = 4\n",
    "l_of_p.append(nb_of_p)\n",
    "t, nb_det = test_mmposeinter_human(img_path,nb_of_p,inferencer)\n",
    "time_res.append(t)\n",
    "nb_h_l.append(nb_det)\n",
    "width, height = get_image_size(img_path)\n",
    "size.append(width * height)\n",
    "err = abs(nb_of_p - nb_det)/nb_of_p\n",
    "lst_err.append(1 - err)\n",
    "\n",
    "\n",
    "plt.scatter(nb_h_l,time_res)\n",
    "plt.grid()\n",
    "plt.title(\"Time of detection depending on number of detected people\")\n",
    "plt.xlabel('Number of detected people')\n",
    "plt.ylabel('Detection time [s]')\n",
    "plt.show()\n",
    "\n",
    "plt.scatter(size,time_res)\n",
    "plt.grid()\n",
    "plt.title(\"Time of detection depending on size of the image\")\n",
    "plt.xlabel('Size [pixels]')\n",
    "plt.ylabel('Detection time [s]')\n",
    "plt.xscale('log')\n",
    "plt.show()\n",
    "\n",
    "plt.scatter(l_of_p,lst_err)\n",
    "plt.grid()\n",
    "plt.title(\"Accuracy depending on number of people on the image\")\n",
    "plt.xlabel('Number of humans')\n",
    "plt.ylabel('Accuracy ')\n",
    "plt.show()\n",
    "\n",
    "plt.scatter(size,lst_err)\n",
    "plt.grid()\n",
    "plt.title(\"Accuracy depending on size of the image\")\n",
    "plt.xlabel('Size [pixels]')\n",
    "plt.ylabel('Accuracy ')\n",
    "plt.xscale('log')\n",
    "plt.show()\n",
    "\n"
   ]
  }
 ],
 "metadata": {
  "kernelspec": {
   "display_name": "openmmlab",
   "language": "python",
   "name": "python3"
  },
  "language_info": {
   "codemirror_mode": {
    "name": "ipython",
    "version": 3
   },
   "file_extension": ".py",
   "mimetype": "text/x-python",
   "name": "python",
   "nbconvert_exporter": "python",
   "pygments_lexer": "ipython3",
   "version": "3.10.14"
  }
 },
 "nbformat": 4,
 "nbformat_minor": 2
}
